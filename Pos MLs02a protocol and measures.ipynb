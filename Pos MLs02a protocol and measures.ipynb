{
 "cells": [
  {
   "cell_type": "code",
   "execution_count": 4,
   "metadata": {},
   "outputs": [],
   "source": [
    "import numpy as np\n",
    "import pandas as pd\n",
    "from sklearn.datasets import load_iris\n",
    "from sklearn.model_selection import train_test_split, cross_val_score\n",
    "from sklearn.tree import DecisionTreeClassifier\n",
    "from sklearn.neighbors import KNeighborsClassifier\n",
    "\n",
    "seed = 9\n",
    "\n",
    "# Load Iris dataset\n",
    "iris = load_iris()\n",
    "X = iris.data\n",
    "y = iris.target\n",
    "\n",
    "# Decision Tree Classifier\n",
    "dt_classifier = DecisionTreeClassifier(random_state=seed)\n",
    "# K-Nearest Neighbors Classifier\n",
    "knn_classifier = KNeighborsClassifier(n_neighbors=5)"
   ]
  },
  {
   "cell_type": "code",
   "execution_count": 5,
   "metadata": {},
   "outputs": [
    {
     "name": "stdout",
     "output_type": "stream",
     "text": [
      "DT Accuracy: 0.9333333333333333\n",
      "KNN Accuracy: 0.9555555555555556\n"
     ]
    }
   ],
   "source": [
    "from sklearn.metrics import accuracy_score\n",
    "\n",
    "# Splitting data into training and testing sets\n",
    "X_train, X_test, y_train, y_test = train_test_split(X, y, test_size=0.3, random_state=seed, stratify=y) #stratify equilibra\n",
    "\n",
    "\n",
    "dt_classifier.fit(X_train, y_train)\n",
    "y_predictions_dt = dt_classifier.predict(X_test)\n",
    "print(\"DT Accuracy:\", accuracy_score(y_test, y_predictions_dt))\n",
    "\n",
    "knn_classifier.fit(X_train, y_train)\n",
    "y_predictions_knn = knn_classifier.predict(X_test)\n",
    "print(\"KNN Accuracy:\", accuracy_score(y_test, y_predictions_knn))"
   ]
  },
  {
   "cell_type": "code",
   "execution_count": 6,
   "metadata": {},
   "outputs": [
    {
     "name": "stdout",
     "output_type": "stream",
     "text": [
      "DT CV Scores: [0.96666667 0.96666667 0.9        0.96666667 1.        ]\n",
      "DT CV mean: 0.9600000000000002\n",
      "\n",
      "KNN CV Scores: [0.96666667 1.         0.93333333 0.96666667 1.        ]\n",
      "KNN CV mean: 0.9733333333333334\n"
     ]
    }
   ],
   "source": [
    "# Cross-validation scores\n",
    "dt_cv_scores = cross_val_score(dt_classifier, X, y, cv=5)\n",
    "knn_cv_scores = cross_val_score(knn_classifier, X, y, cv=5)\n",
    "\n",
    "print(\"DT CV Scores:\", dt_cv_scores)\n",
    "print(\"DT CV mean:\", np.mean(dt_cv_scores))\n",
    "print(\"\\nKNN CV Scores:\", knn_cv_scores)\n",
    "print(\"KNN CV mean:\", np.mean(knn_cv_scores))"
   ]
  },
  {
   "cell_type": "code",
   "execution_count": 7,
   "metadata": {},
   "outputs": [
    {
     "name": "stdout",
     "output_type": "stream",
     "text": [
      "\n",
      "Decision Tree Classifier Metrics:\n",
      "Precision: 0.9345238095238096\n",
      "Recall: 0.9333333333333332\n",
      "Mean Squared Absolute Error: 0.06666666666666667\n",
      "\n",
      "K-Nearest Neighbors Classifier Metrics:\n",
      "Precision: 0.9555555555555556\n",
      "Recall: 0.9555555555555556\n",
      "Mean Squared Absolute Error: 0.044444444444444446\n"
     ]
    }
   ],
   "source": [
    "from sklearn.metrics import precision_score, recall_score, mean_squared_error\n",
    "\n",
    "\n",
    "dt_precision = precision_score(y_test, y_predictions_dt, average='macro')\n",
    "knn_precision = precision_score(y_test, y_predictions_knn, average='macro')\n",
    "\n",
    "dt_recall = recall_score(y_test, y_predictions_dt, average='macro')\n",
    "knn_recall = recall_score(y_test, y_predictions_knn, average='macro')\n",
    "\n",
    "dt_mse = mean_squared_error(y_test, y_predictions_dt)\n",
    "knn_mse = mean_squared_error(y_test, y_predictions_knn)\n",
    "\n",
    "print(\"\\nDecision Tree Classifier Metrics:\")\n",
    "print(\"Precision:\", dt_precision)\n",
    "print(\"Recall:\", dt_recall)\n",
    "print(\"Mean Squared Absolute Error:\", dt_mse)\n",
    "\n",
    "print(\"\\nK-Nearest Neighbors Classifier Metrics:\")\n",
    "print(\"Precision:\", knn_precision)\n",
    "print(\"Recall:\", knn_recall)\n",
    "print(\"Mean Squared Absolute Error:\", knn_mse)\n"
   ]
  },
  {
   "cell_type": "markdown",
   "metadata": {},
   "source": [
    "# SVM Suport Vector Machine\n",
    "## Exxercicio usando a iris para comparar os kernels"
   ]
  },
  {
   "cell_type": "code",
   "execution_count": 8,
   "metadata": {},
   "outputs": [
    {
     "name": "stdout",
     "output_type": "stream",
     "text": [
      "Acurácia (ACC) - SVM com diferentes kernels - Resubstituição:\n",
      "Linear kernel: 0.9555555555555556\n",
      "Polynomial kernel: 0.9555555555555556\n",
      "RBF kernel: 0.9333333333333333\n"
     ]
    }
   ],
   "source": [
    "from sklearn.svm import SVC\n",
    "\n",
    "# Modelos SVM com diferentes kernels\n",
    "svm_linear_model = SVC(kernel='linear')\n",
    "svm_poly_model = SVC(kernel='poly')\n",
    "svm_rbf_model = SVC(kernel='rbf')\n",
    "\n",
    "# Treinamento e avaliação para o protocolo de resubstituição\n",
    "svm_linear_model.fit(X_train, y_train)\n",
    "svm_poly_model.fit(X_train, y_train)\n",
    "svm_rbf_model.fit(X_train, y_train)\n",
    "\n",
    "svm_linear_pred = svm_linear_model.predict(X_test)\n",
    "svm_poly_pred = svm_poly_model.predict(X_test)\n",
    "svm_rbf_pred = svm_rbf_model.predict(X_test)\n",
    "\n",
    "svm_linear_acc = accuracy_score(y_test, svm_linear_pred)\n",
    "svm_poly_acc = accuracy_score(y_test, svm_poly_pred)\n",
    "svm_rbf_acc = accuracy_score(y_test, svm_rbf_pred)\n",
    "\n",
    "print(\"Acurácia (ACC) - SVM com diferentes kernels - Resubstituição:\")\n",
    "print(\"Linear kernel:\", svm_linear_acc)\n",
    "print(\"Polynomial kernel:\", svm_poly_acc)\n",
    "print(\"RBF kernel:\", svm_rbf_acc)\n",
    "\n"
   ]
  }
 ],
 "metadata": {
  "kernelspec": {
   "display_name": "Python 3",
   "language": "python",
   "name": "python3"
  },
  "language_info": {
   "codemirror_mode": {
    "name": "ipython",
    "version": 3
   },
   "file_extension": ".py",
   "mimetype": "text/x-python",
   "name": "python",
   "nbconvert_exporter": "python",
   "pygments_lexer": "ipython3",
   "version": "3.11.5"
  }
 },
 "nbformat": 4,
 "nbformat_minor": 2
}
