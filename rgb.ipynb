{
 "cells": [
  {
   "cell_type": "code",
   "execution_count": 61,
   "metadata": {},
   "outputs": [
    {
     "name": "stdout",
     "output_type": "stream",
     "text": [
      "Dados de treinamento:\n",
      "    1  10  200  1.1\n",
      "0   2  20  230    1\n",
      "1   6  25  150    1\n",
      "2   7  45  100    1\n",
      "3  10  50  125    1\n",
      "4   3  24  111    1\n",
      "\n",
      "Dados de teste:\n",
      "   237   45  100  Unnamed: 3\n",
      "0   56  200    1         NaN\n",
      "1   79  234    3         NaN\n",
      "2   95  200   10         NaN\n",
      "3   80  210    4         NaN\n",
      "4   49  207    1         NaN\n",
      "Resultados para k=3: [1 1 1 1 1]\n",
      "Resultados para k=5: [1 1 1 1 1]\n",
      "Resultados para k=7: [1 1 1 1 1]\n"
     ]
    },
    {
     "name": "stderr",
     "output_type": "stream",
     "text": [
      "/Library/Frameworks/Python.framework/Versions/3.12/lib/python3.12/site-packages/sklearn/base.py:486: UserWarning: X has feature names, but KNeighborsClassifier was fitted without feature names\n",
      "  warnings.warn(\n",
      "/Library/Frameworks/Python.framework/Versions/3.12/lib/python3.12/site-packages/sklearn/base.py:486: UserWarning: X has feature names, but KNeighborsClassifier was fitted without feature names\n",
      "  warnings.warn(\n",
      "/Library/Frameworks/Python.framework/Versions/3.12/lib/python3.12/site-packages/sklearn/base.py:486: UserWarning: X has feature names, but KNeighborsClassifier was fitted without feature names\n",
      "  warnings.warn(\n"
     ]
    }
   ],
   "source": [
    "import pandas as pd\n",
    "from sklearn.neighbors import KNeighborsClassifier\n",
    "\n",
    "# Carregar dados de treinamento e teste a partir dos arquivos CSV, ignorando a primeira linha (cabeçalhos)\n",
    "train_data = pd.read_csv('rgb_treino.csv', sep=';', skiprows=1)\n",
    "test_data = pd.read_csv('rgb_teste.csv', sep=';', skiprows=1)\n",
    "\n",
    "print(\"Dados de treinamento:\")\n",
    "print(train_data.head())\n",
    "\n",
    "print(\"\\nDados de teste:\")\n",
    "print(test_data.head())\n",
    "\n",
    "# Separando atributos e rótulos do conjunto de treinamento\n",
    "X_train = train_data.iloc[:, :-1].values\n",
    "y_train = train_data.iloc[:, -1].values\n",
    "\n",
    "# Remover a coluna \"Classes\" dos dados de teste\n",
    "test_data = test_data.iloc[:, :-1]\n",
    "\n",
    "# Função para classificar e imprimir resultados para diferentes valores de k\n",
    "def classify_and_print_results(k):\n",
    "    knn = KNeighborsClassifier(n_neighbors=k)\n",
    "    knn.fit(X_train, y_train)\n",
    "    predictions = knn.predict(test_data)\n",
    "    print(f\"Resultados para k={k}: {predictions}\")\n",
    "\n",
    "# Classificação para k=3, 5 e 7\n",
    "for k in [3, 5, 7]:\n",
    "    classify_and_print_results(k)\n"
   ]
  }
 ],
 "metadata": {
  "kernelspec": {
   "display_name": "Python 3",
   "language": "python",
   "name": "python3"
  },
  "language_info": {
   "codemirror_mode": {
    "name": "ipython",
    "version": 3
   },
   "file_extension": ".py",
   "mimetype": "text/x-python",
   "name": "python",
   "nbconvert_exporter": "python",
   "pygments_lexer": "ipython3",
   "version": "3.12.3"
  }
 },
 "nbformat": 4,
 "nbformat_minor": 2
}
