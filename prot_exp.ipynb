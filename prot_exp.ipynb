{
 "cells": [
  {
   "cell_type": "code",
   "execution_count": 4,
   "metadata": {},
   "outputs": [],
   "source": [
    "from sklearn.datasets import load_iris\n",
    "\n",
    "# Base\n",
    "iris = load_iris()\n",
    "X = iris.data \n",
    "y = iris.target  "
   ]
  },
  {
   "cell_type": "code",
   "execution_count": 5,
   "metadata": {},
   "outputs": [],
   "source": [
    "from sklearn.model_selection import train_test_split\n",
    "\n",
    "# Divisão\n",
    "X_train, X_test, y_train, y_test = train_test_split(X, y, test_size=0.3, random_state=42)"
   ]
  },
  {
   "cell_type": "code",
   "execution_count": 6,
   "metadata": {},
   "outputs": [],
   "source": [
    "from sklearn.tree import DecisionTreeClassifier\n",
    "from sklearn.neighbors import KNeighborsClassifier\n",
    "from sklearn.metrics import accuracy_score, mean_squared_error"
   ]
  },
  {
   "cell_type": "code",
   "execution_count": 7,
   "metadata": {},
   "outputs": [
    {
     "name": "stdout",
     "output_type": "stream",
     "text": [
      "Acurácia (ACC) - Resubstituição:\n",
      "Decision Tree (DT): 1.0\n",
      "K-Nearest Neighbors (KNN): 1.0\n"
     ]
    }
   ],
   "source": [
    "# Decision Tree (DT)\n",
    "dt_model = DecisionTreeClassifier()\n",
    "dt_model.fit(X_train, y_train)\n",
    "dt_pred = dt_model.predict(X_test)\n",
    "dt_acc = accuracy_score(y_test, dt_pred)\n",
    "\n",
    "# K-Nearest Neighbors (KNN)\n",
    "knn_model = KNeighborsClassifier()\n",
    "knn_model.fit(X_train, y_train)\n",
    "knn_pred = knn_model.predict(X_test)\n",
    "knn_acc = accuracy_score(y_test, knn_pred)\n",
    "\n",
    "print(\"Acurácia (ACC) - Resubstituição:\")\n",
    "print(\"Decision Tree (DT):\", dt_acc)\n",
    "print(\"K-Nearest Neighbors (KNN):\", knn_acc)\n"
   ]
  },
  {
   "cell_type": "code",
   "execution_count": 8,
   "metadata": {},
   "outputs": [
    {
     "name": "stdout",
     "output_type": "stream",
     "text": [
      "\n",
      "Acurácia (ACC) - 70/30:\n",
      "Decision Tree (DT): 1.0\n",
      "K-Nearest Neighbors (KNN): 1.0\n"
     ]
    }
   ],
   "source": [
    "# (70% treinamento, 30% teste)\n",
    "X_train_70_30, X_test_70_30, y_train_70_30, y_test_70_30 = train_test_split(X, y, test_size=0.3, random_state=42)\n",
    "\n",
    "# Decision Tree (DT)\n",
    "dt_model_70_30 = DecisionTreeClassifier()\n",
    "dt_model_70_30.fit(X_train_70_30, y_train_70_30)\n",
    "dt_pred_70_30 = dt_model_70_30.predict(X_test_70_30)\n",
    "dt_acc_70_30 = accuracy_score(y_test_70_30, dt_pred_70_30)\n",
    "\n",
    "# K-Nearest Neighbors (KNN)\n",
    "knn_model_70_30 = KNeighborsClassifier()\n",
    "knn_model_70_30.fit(X_train_70_30, y_train_70_30)\n",
    "knn_pred_70_30 = knn_model_70_30.predict(X_test_70_30)\n",
    "knn_acc_70_30 = accuracy_score(y_test_70_30, knn_pred_70_30)\n",
    "\n",
    "print(\"\\nAcurácia (ACC) - 70/30:\")\n",
    "print(\"Decision Tree (DT):\", dt_acc_70_30)\n",
    "print(\"K-Nearest Neighbors (KNN):\", knn_acc_70_30)\n"
   ]
  },
  {
   "cell_type": "code",
   "execution_count": 11,
   "metadata": {},
   "outputs": [
    {
     "name": "stdout",
     "output_type": "stream",
     "text": [
      "\n",
      "Acurácia (ACC) - Cross-Validation (CV=5):\n",
      "Decision Tree (DT): 0.9666666666666668\n",
      "K-Nearest Neighbors (KNN): 0.9733333333333334\n"
     ]
    }
   ],
   "source": [
    "from sklearn.model_selection import cross_val_score\n",
    "\n",
    "# Decision Tree (DT)\n",
    "dt_scores = cross_val_score(dt_model, X, y, cv=5)\n",
    "dt_acc_cv = dt_scores.mean()\n",
    "\n",
    "# K-Nearest Neighbors (KNN)\n",
    "knn_scores = cross_val_score(knn_model, X, y, cv=5)\n",
    "knn_acc_cv = knn_scores.mean()\n",
    "\n",
    "print(\"\\nAcurácia (ACC) - Cross-Validation (CV=5):\")\n",
    "print(\"Decision Tree (DT):\", dt_acc_cv)\n",
    "print(\"K-Nearest Neighbors (KNN):\", knn_acc_cv)\n"
   ]
  }
 ],
 "metadata": {
  "kernelspec": {
   "display_name": "Python 3",
   "language": "python",
   "name": "python3"
  },
  "language_info": {
   "codemirror_mode": {
    "name": "ipython",
    "version": 3
   },
   "file_extension": ".py",
   "mimetype": "text/x-python",
   "name": "python",
   "nbconvert_exporter": "python",
   "pygments_lexer": "ipython3",
   "version": "3.11.5"
  }
 },
 "nbformat": 4,
 "nbformat_minor": 2
}
